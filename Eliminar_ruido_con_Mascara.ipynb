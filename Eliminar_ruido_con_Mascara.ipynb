{
  "nbformat": 4,
  "nbformat_minor": 0,
  "metadata": {
    "colab": {
      "name": "Eliminar ruido con Mascara",
      "provenance": [],
      "include_colab_link": true
    },
    "kernelspec": {
      "name": "python3",
      "display_name": "Python 3"
    }
  },
  "cells": [
    {
      "cell_type": "markdown",
      "metadata": {
        "id": "view-in-github",
        "colab_type": "text"
      },
      "source": [
        "<a href=\"https://colab.research.google.com/github/AndresPautrat/PDI_UPC/blob/main/Eliminar_ruido_con_Mascara.ipynb\" target=\"_parent\"><img src=\"https://colab.research.google.com/assets/colab-badge.svg\" alt=\"Open In Colab\"/></a>"
      ]
    },
    {
      "cell_type": "code",
      "metadata": {
        "id": "SxFr9fF5kUZm",
        "colab": {
          "base_uri": "https://localhost:8080/",
          "height": 129
        },
        "outputId": "bf5760ef-6adf-4531-d11d-cb433344cea1"
      },
      "source": [
        "import cv2\n",
        "import numpy as np\n",
        "import matplotlib.pyplot as plt\n",
        "\n",
        "img=cv2.imread('MarteC.jpeg',0)\n",
        "f=np.fft.fft2(img)\n",
        "f=np.fft.fftshift(f)\n",
        "\n",
        "row,cols=img.shape\n",
        "crow, ccol=row//2,cols//2\n",
        "\n",
        "magnitud=20*np.log(np.abs(f))\n",
        "\n",
        "ancho=1\n",
        "radio=10\n",
        "\n",
        "magnitud[crow-ancho:crow+ancho,ccol+radio:cols]=0\n",
        "magnitud[crow-ancho:crow+ancho,0:ccol-radio]=0\n",
        "magnitud[crow+radio:row,ccol-ancho:ccol+ancho]=0\n",
        "magnitud[0:crow-radio,ccol-ancho:ccol+ancho]=0\n",
        "\n",
        "f=f*magnitud\n",
        "\n",
        "f_ishift=np.fft.ifftshift(f)\n",
        "im_back=np.fft.ifft2(f_ishift)\n",
        "im_back=np.abs(im_back)\n",
        "\n",
        "plt.figure()\n",
        "plt.imshow(magnitud,cmap='gray')\n",
        "plt.show()\n",
        "\n",
        "plt.subplot(1,3,1),plt.imshow(img,cmap='gray')\n",
        "plt.subplot(1,3,2),plt.imshow(im_back,cmap='gray')\n",
        "plt.subplot(1,3,3),plt.imshow(magnitud,cmap='gray')\n",
        "\n",
        "plt.show()"
      ],
      "execution_count": null,
      "outputs": [
        {
          "output_type": "error",
          "ename": "SyntaxError",
          "evalue": "ignored",
          "traceback": [
            "\u001b[0;36m  File \u001b[0;32m\"<ipython-input-2-8667ba878f58>\"\u001b[0;36m, line \u001b[0;32m21\u001b[0m\n\u001b[0;31m    if()\u001b[0m\n\u001b[0m        ^\u001b[0m\n\u001b[0;31mSyntaxError\u001b[0m\u001b[0;31m:\u001b[0m invalid syntax\n"
          ]
        }
      ]
    }
  ]
}