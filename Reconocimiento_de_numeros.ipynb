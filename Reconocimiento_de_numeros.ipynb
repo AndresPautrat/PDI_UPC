{
  "nbformat": 4,
  "nbformat_minor": 0,
  "metadata": {
    "colab": {
      "name": "Reconocimiento de numeros.ipynb",
      "provenance": [],
      "include_colab_link": true
    },
    "kernelspec": {
      "name": "python3",
      "display_name": "Python 3"
    }
  },
  "cells": [
    {
      "cell_type": "markdown",
      "metadata": {
        "id": "view-in-github",
        "colab_type": "text"
      },
      "source": [
        "<a href=\"https://colab.research.google.com/github/AndresPautrat/PDI_UPC/blob/main/Reconocimiento_de_numeros.ipynb\" target=\"_parent\"><img src=\"https://colab.research.google.com/assets/colab-badge.svg\" alt=\"Open In Colab\"/></a>"
      ]
    },
    {
      "cell_type": "code",
      "metadata": {
        "id": "LSCLmzacbIWS",
        "colab": {
          "base_uri": "https://localhost:8080/",
          "height": 119
        },
        "outputId": "d74399b2-7f03-4fc3-e3c4-775523599faa"
      },
      "source": [
        "import numpy as np\n",
        "import cv2\n",
        "\n",
        "img=np.zeros((6,6),np.uint8)\n",
        "\n",
        "for i in range(len(img)):\n",
        "  img[i,i:]=255\n",
        "\n",
        "print(img)"
      ],
      "execution_count": null,
      "outputs": [
        {
          "output_type": "stream",
          "text": [
            "[[255 255 255 255 255 255]\n",
            " [  0 255 255 255 255 255]\n",
            " [  0   0 255 255 255 255]\n",
            " [  0   0   0 255 255 255]\n",
            " [  0   0   0   0 255 255]\n",
            " [  0   0   0   0   0 255]]\n"
          ],
          "name": "stdout"
        }
      ]
    },
    {
      "cell_type": "code",
      "metadata": {
        "id": "nemU4FygcT7z",
        "colab": {
          "base_uri": "https://localhost:8080/",
          "height": 221
        },
        "outputId": "20bc2e13-30bc-4904-a866-e0732aac298a"
      },
      "source": [
        "Gx=cv2.Sobel(img,cv2.CV_32F,1,0)\n",
        "Gy=cv2.Sobel(img,cv2.CV_32F,0,1)\n",
        "\n",
        "print(Gx)\n",
        "print(Gy)"
      ],
      "execution_count": null,
      "outputs": [
        {
          "output_type": "stream",
          "text": [
            "[[   0.  510.    0.    0.    0.    0.]\n",
            " [   0.  765.  255.    0.    0.    0.]\n",
            " [   0.  765.  765.  255.    0.    0.]\n",
            " [   0.  255.  765.  765.  255.    0.]\n",
            " [   0.    0.  255.  765.  765.    0.]\n",
            " [   0.    0.    0.  510. 1020.    0.]]\n",
            "[[    0.     0.     0.     0.     0.     0.]\n",
            " [-1020.  -765.  -255.     0.     0.     0.]\n",
            " [ -510.  -765.  -765.  -255.     0.     0.]\n",
            " [    0.  -255.  -765.  -765.  -255.     0.]\n",
            " [    0.     0.  -255.  -765.  -765.  -510.]\n",
            " [    0.     0.     0.     0.     0.     0.]]\n"
          ],
          "name": "stdout"
        }
      ]
    },
    {
      "cell_type": "code",
      "metadata": {
        "id": "0GPPIgu8dxin",
        "colab": {
          "base_uri": "https://localhost:8080/",
          "height": 221
        },
        "outputId": "163b3417-b6a4-4e3a-9c03-b868d0da949a"
      },
      "source": [
        "mag,ang= cv2.cartToPolar(Gx,Gy)\n",
        "\n",
        "print(mag)\n",
        "print((180*ang)/np.pi)"
      ],
      "execution_count": null,
      "outputs": [
        {
          "output_type": "stream",
          "text": [
            "[[   0.       510.         0.         0.         0.         0.     ]\n",
            " [1020.      1081.8734   360.62445    0.         0.         0.     ]\n",
            " [ 510.      1081.8734  1081.8734   360.62445    0.         0.     ]\n",
            " [   0.       360.62445 1081.8734  1081.8734   360.62445    0.     ]\n",
            " [   0.         0.       360.62445 1081.8734  1081.8734   510.     ]\n",
            " [   0.         0.         0.       510.      1020.         0.     ]]\n",
            "[[  0.        0.        0.        0.        0.        0.     ]\n",
            " [270.      315.00955 315.00955   0.        0.        0.     ]\n",
            " [270.      315.00955 315.00955 315.00955   0.        0.     ]\n",
            " [  0.      315.00955 315.00955 315.00955 315.00955   0.     ]\n",
            " [  0.        0.      315.00955 315.00955 315.00955 270.     ]\n",
            " [  0.        0.        0.        0.        0.        0.     ]]\n"
          ],
          "name": "stdout"
        }
      ]
    },
    {
      "cell_type": "code",
      "metadata": {
        "id": "gmJsrtyyg6eX"
      },
      "source": [
        "import cv2\n",
        "import numpy as np\n",
        "def hog(img,B):\n",
        "  gx=cv2.Sobel(img,cv2.CV_32F,1,0)\n",
        "  gy=cv2.Sobel(img, cv2.CV_32F,0,1)\n",
        "  mag, ang=cv2.cartToPolar(gx,gy)\n",
        "  bins=np.int32(ang*B/(2*np.pi))\n",
        "  bin_cells=bins[:10,:10],bins[10:,10:],bins[10:,10:],bins[10:,10:]\n",
        "  mag_cells=mag[10:,10:], mag[10:,10:],mag[10:,10:],mag[10:,10:]\n",
        "  hists=[np.bincount(b.ravel(),m.ravel(),B)\n",
        "            for b,m, in zip(bin_cells,mag_cells)]\n",
        "  hists=np.hstack(hists)\n",
        "  return hists\n",
        "img=cv2.imread('digits.png')\n"
      ],
      "execution_count": null,
      "outputs": []
    },
    {
      "cell_type": "code",
      "metadata": {
        "id": "GnONSRiStPLk",
        "colab": {
          "base_uri": "https://localhost:8080/",
          "height": 265
        },
        "outputId": "7ea6b4c4-dc47-4842-b79a-59515d320ddc"
      },
      "source": [
        "import matplotlib.pyplot as plt\n",
        "img1=img[1:20,0:20]\n",
        "plt.imshow(img1)\n",
        "plt.show()"
      ],
      "execution_count": null,
      "outputs": [
        {
          "output_type": "display_data",
          "data": {
            "image/png": "[encoded data removed]",
            "text/plain": [
              "<Figure size 432x288 with 1 Axes>"
            ]
          },
          "metadata": {
            "tags": []
          }
        }
      ]
    },
    {
      "cell_type": "code",
      "metadata": {
        "id": "6K22k-RctmmM",
        "colab": {
          "base_uri": "https://localhost:8080/",
          "height": 282
        },
        "outputId": "fc5d6b3c-beb4-4e3d-f2fb-c9b7315caab9"
      },
      "source": [
        "hists=hog(img1,16)\n",
        "print(hists.shape)\n",
        "plt.plot(hists)\n",
        "plt.show()"
      ],
      "execution_count": null,
      "outputs": [
        {
          "output_type": "stream",
          "text": [
            "(64,)\n"
          ],
          "name": "stdout"
        },
        {
          "output_type": "display_data",
          "data": {
            "image/png": "[encoded data removed]",
            "text/plain": [
              "<Figure size 432x288 with 1 Axes>"
            ]
          },
          "metadata": {
            "tags": []
          }
        }
      ]
    },
    {
      "cell_type": "code",
      "metadata": {
        "id": "NgoSqIjit3Ev"
      },
      "source": [
        "#Contruir data set de entrenamiento\n",
        "#Parte izquierda digits\n",
        "\n",
        "\n",
        "all=[]\n",
        "target=[]\n",
        "\n",
        "\n",
        "size_Crop=20\n",
        "size_X=int(img.shape[0]/size_Crop)\n",
        "size_Y=int(img.shape[1]/size_Crop)\n",
        "for i in range(int(size_X)):\n",
        "  for j in range(int (size_Y/2)):\n",
        "    aux_img=img1=img[i*size_Crop:i*size_Crop+size_Crop,j*size_Crop:j*size_Crop+size_Crop]\n",
        "    all.append(hog(aux_img,16))\n"
      ],
      "execution_count": null,
      "outputs": []
    },
    {
      "cell_type": "code",
      "metadata": {
        "id": "NShX6ZwZv0w7",
        "colab": {
          "base_uri": "https://localhost:8080/",
          "height": 34
        },
        "outputId": "3d32e9ed-2cdb-408c-b7d9-5e360a2ac01b"
      },
      "source": [
        "all=np.vstack(all)\n",
        "\n",
        "print(all.shape)\n"
      ],
      "execution_count": null,
      "outputs": [
        {
          "output_type": "stream",
          "text": [
            "(2500, 64)\n"
          ],
          "name": "stdout"
        }
      ]
    },
    {
      "cell_type": "code",
      "metadata": {
        "id": "ubgxUO0jx0Cb",
        "colab": {
          "base_uri": "https://localhost:8080/",
          "height": 197
        },
        "outputId": "fde73dab-4a2a-4f17-eabd-d68ab4be085d"
      },
      "source": [
        "train=np.float32(all)\n",
        "\n",
        "\n",
        "svm=cv2.ml.SVM_create()\n",
        "svm.setKernel(cv2.ml.SVM_LINEAR)\n",
        "svm.setType(cv2.ml.SVM_C_SVC)\n",
        "svm.setC(2.67)\n",
        "svm.setGamma(5.383)\n",
        "\n",
        "svm.train(train,cv2.ml.ROW_SAMPLE,target)"
      ],
      "execution_count": null,
      "outputs": [
        {
          "output_type": "error",
          "ename": "TypeError",
          "evalue": "ignored",
          "traceback": [
            "\u001b[0;31m---------------------------------------------------------------------------\u001b[0m",
            "\u001b[0;31mTypeError\u001b[0m                                 Traceback (most recent call last)",
            "\u001b[0;32m<ipython-input-100-db8110cee563>\u001b[0m in \u001b[0;36m<module>\u001b[0;34m()\u001b[0m\n\u001b[1;32m      8\u001b[0m \u001b[0msvm\u001b[0m\u001b[0;34m.\u001b[0m\u001b[0msetGamma\u001b[0m\u001b[0;34m(\u001b[0m\u001b[0;36m5.383\u001b[0m\u001b[0;34m)\u001b[0m\u001b[0;34m\u001b[0m\u001b[0;34m\u001b[0m\u001b[0m\n\u001b[1;32m      9\u001b[0m \u001b[0;34m\u001b[0m\u001b[0m\n\u001b[0;32m---> 10\u001b[0;31m \u001b[0msvm\u001b[0m\u001b[0;34m.\u001b[0m\u001b[0mtrain\u001b[0m\u001b[0;34m(\u001b[0m\u001b[0mtrain\u001b[0m\u001b[0;34m,\u001b[0m\u001b[0mcv2\u001b[0m\u001b[0;34m.\u001b[0m\u001b[0mml\u001b[0m\u001b[0;34m.\u001b[0m\u001b[0mROW_SAMPLE\u001b[0m\u001b[0;34m,\u001b[0m\u001b[0mtarget\u001b[0m\u001b[0;34m)\u001b[0m\u001b[0;34m\u001b[0m\u001b[0;34m\u001b[0m\u001b[0m\n\u001b[0m",
            "\u001b[0;31mTypeError\u001b[0m: responses is not a numpy array, neither a scalar"
          ]
        }
      ]
    },
    {
      "cell_type": "code",
      "metadata": {
        "id": "2BWPZzCD2fIh"
      },
      "source": [
        "test=np.float32(test)\n",
        "\n",
        "result=svm.predict(test)[1]\n",
        "\n",
        "mask=(result==target)\n",
        "correct=np.count_nonzero(mask)\n",
        "print(correct*100.0/result.size)"
      ],
      "execution_count": null,
      "outputs": []
    }
  ]
}